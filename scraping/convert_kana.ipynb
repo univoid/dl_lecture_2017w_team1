{
 "cells": [
  {
   "cell_type": "markdown",
   "metadata": {
    "deletable": true,
    "editable": true
   },
   "source": [
    "## 概要\n",
    "* 漢字をカタカナに変換\n",
    "* MeCabでカタカナに変換できなかったものは除外\n",
    "* 季語がない無季はとりあえず除外"
   ]
  },
  {
   "cell_type": "code",
   "execution_count": 13,
   "metadata": {
    "collapsed": true,
    "deletable": true,
    "editable": true
   },
   "outputs": [],
   "source": [
    "import MeCab\n",
    "import pandas as pd\n",
    "import re\n",
    "import jaconv\n",
    "import numpy as np"
   ]
  },
  {
   "cell_type": "code",
   "execution_count": 2,
   "metadata": {
    "collapsed": true,
    "deletable": true,
    "editable": true
   },
   "outputs": [],
   "source": [
    "#tagger = MeCab.Tagger(\"-Ochasen -d /usr/local/lib/mecab/dic/mecab-ipadic-neologd\")\n",
    "tagger = MeCab.Tagger(\"-Ochasen\")"
   ]
  },
  {
   "cell_type": "code",
   "execution_count": 5,
   "metadata": {
    "collapsed": true,
    "deletable": true,
    "editable": true
   },
   "outputs": [],
   "source": [
    "new=pd.read_csv(\"df_cleaning3.csv\")"
   ]
  },
  {
   "cell_type": "code",
   "execution_count": 7,
   "metadata": {
    "collapsed": false,
    "deletable": true,
    "editable": true
   },
   "outputs": [
    {
     "data": {
      "text/plain": [
       "4620"
      ]
     },
     "execution_count": 7,
     "metadata": {},
     "output_type": "execute_result"
    }
   ],
   "source": [
    "new[\"kigo\"].nunique()"
   ]
  },
  {
   "cell_type": "code",
   "execution_count": 39,
   "metadata": {
    "collapsed": false,
    "deletable": true,
    "editable": true
   },
   "outputs": [
    {
     "data": {
      "text/html": [
       "<div>\n",
       "<table border=\"1\" class=\"dataframe\">\n",
       "  <thead>\n",
       "    <tr style=\"text-align: right;\">\n",
       "      <th></th>\n",
       "      <th>Unnamed: 0</th>\n",
       "      <th>cd-num</th>\n",
       "      <th>haiku</th>\n",
       "      <th>writer</th>\n",
       "      <th>kigo</th>\n",
       "      <th>season</th>\n",
       "      <th>yomi</th>\n",
       "      <th>kigo_yomi</th>\n",
       "    </tr>\n",
       "  </thead>\n",
       "  <tbody>\n",
       "    <tr>\n",
       "      <th>1150</th>\n",
       "      <td>1150</td>\n",
       "      <td>1231</td>\n",
       "      <td>枯蓮の折れたる影は折れてをる</td>\n",
       "      <td>富安風生</td>\n",
       "      <td>枯蓮</td>\n",
       "      <td>冬</td>\n",
       "      <td>枯蓮ノオレタルカゲハオレテヲル</td>\n",
       "      <td>枯蓮</td>\n",
       "    </tr>\n",
       "    <tr>\n",
       "      <th>2035</th>\n",
       "      <td>2035</td>\n",
       "      <td>2159</td>\n",
       "      <td>枯蓮のうごく時きてみなうごく</td>\n",
       "      <td>西東三鬼</td>\n",
       "      <td>枯蓮</td>\n",
       "      <td>冬</td>\n",
       "      <td>枯蓮ノウゴクトキキテミナウゴク</td>\n",
       "      <td>枯蓮</td>\n",
       "    </tr>\n",
       "    <tr>\n",
       "      <th>2330</th>\n",
       "      <td>2330</td>\n",
       "      <td>2469</td>\n",
       "      <td>枯蓮に隈おとしたる道化たち</td>\n",
       "      <td>橋閒石</td>\n",
       "      <td>枯蓮</td>\n",
       "      <td>冬</td>\n",
       "      <td>枯蓮ニクマオトシタルドウケタチ</td>\n",
       "      <td>枯蓮</td>\n",
       "    </tr>\n",
       "    <tr>\n",
       "      <th>6263</th>\n",
       "      <td>6263</td>\n",
       "      <td>7518</td>\n",
       "      <td>枯蓮や無用の者ら無用の首</td>\n",
       "      <td>井沢唯夫</td>\n",
       "      <td>枯蓮</td>\n",
       "      <td>冬</td>\n",
       "      <td>枯蓮ヤムヨウノモノラムヨウノクビ</td>\n",
       "      <td>枯蓮</td>\n",
       "    </tr>\n",
       "    <tr>\n",
       "      <th>12015</th>\n",
       "      <td>12015</td>\n",
       "      <td>14283</td>\n",
       "      <td>裏返る力もうなし枯蓮</td>\n",
       "      <td>畠中定子</td>\n",
       "      <td>枯蓮</td>\n",
       "      <td>冬</td>\n",
       "      <td>ウラガエルリキモウナシ枯蓮</td>\n",
       "      <td>枯蓮</td>\n",
       "    </tr>\n",
       "    <tr>\n",
       "      <th>12597</th>\n",
       "      <td>12597</td>\n",
       "      <td>14872</td>\n",
       "      <td>杖ついて水の枯蓮歳をとる</td>\n",
       "      <td>竹鼻瑠璃男</td>\n",
       "      <td>枯蓮</td>\n",
       "      <td>冬</td>\n",
       "      <td>ツエツイテミズノ枯蓮トシヲトル</td>\n",
       "      <td>枯蓮</td>\n",
       "    </tr>\n",
       "    <tr>\n",
       "      <th>16497</th>\n",
       "      <td>16497</td>\n",
       "      <td>18794</td>\n",
       "      <td>枯蓮己の影の怖からむ</td>\n",
       "      <td>藤岡尚子</td>\n",
       "      <td>枯蓮</td>\n",
       "      <td>冬</td>\n",
       "      <td>枯蓮オノレノカゲノコワカラム</td>\n",
       "      <td>枯蓮</td>\n",
       "    </tr>\n",
       "    <tr>\n",
       "      <th>17427</th>\n",
       "      <td>17427</td>\n",
       "      <td>19738</td>\n",
       "      <td>筑波嶺を背に枯蓮枯蓮</td>\n",
       "      <td>菅原けい</td>\n",
       "      <td>枯蓮</td>\n",
       "      <td>冬</td>\n",
       "      <td>ツクバミネヲセニ枯蓮枯蓮</td>\n",
       "      <td>枯蓮</td>\n",
       "    </tr>\n",
       "    <tr>\n",
       "      <th>18625</th>\n",
       "      <td>18625</td>\n",
       "      <td>20942</td>\n",
       "      <td>枯蓮に柔らかき水ありにけり</td>\n",
       "      <td>原田宏子</td>\n",
       "      <td>枯蓮</td>\n",
       "      <td>冬</td>\n",
       "      <td>枯蓮ニヤワラカキミズアリニケリ</td>\n",
       "      <td>枯蓮</td>\n",
       "    </tr>\n",
       "    <tr>\n",
       "      <th>19440</th>\n",
       "      <td>19440</td>\n",
       "      <td>21764</td>\n",
       "      <td>一望の枯蓮に火の色を見き</td>\n",
       "      <td>江中真弓</td>\n",
       "      <td>枯蓮</td>\n",
       "      <td>冬</td>\n",
       "      <td>イチボウノ枯蓮ニヒノイロヲミキ</td>\n",
       "      <td>枯蓮</td>\n",
       "    </tr>\n",
       "    <tr>\n",
       "      <th>29020</th>\n",
       "      <td>29020</td>\n",
       "      <td>31464</td>\n",
       "      <td>枯蓮はCocteauの指無数に折れ</td>\n",
       "      <td>横山白虹</td>\n",
       "      <td>枯蓮</td>\n",
       "      <td>冬</td>\n",
       "      <td>枯蓮ハCocteauノユビムスウニオレ</td>\n",
       "      <td>枯蓮</td>\n",
       "    </tr>\n",
       "    <tr>\n",
       "      <th>35277</th>\n",
       "      <td>35277</td>\n",
       "      <td>38023</td>\n",
       "      <td>枯蓮にかぶさる競馬新聞紙</td>\n",
       "      <td>大石雄鬼</td>\n",
       "      <td>枯蓮</td>\n",
       "      <td>冬</td>\n",
       "      <td>枯蓮ニカブサルケイバシンブンシ</td>\n",
       "      <td>枯蓮</td>\n",
       "    </tr>\n",
       "    <tr>\n",
       "      <th>35730</th>\n",
       "      <td>35730</td>\n",
       "      <td>38527</td>\n",
       "      <td>いつさいは天上にあり枯蓮</td>\n",
       "      <td>浦川聡子</td>\n",
       "      <td>枯蓮</td>\n",
       "      <td>冬</td>\n",
       "      <td>イツサイハテンジョウニアリ枯蓮</td>\n",
       "      <td>枯蓮</td>\n",
       "    </tr>\n",
       "    <tr>\n",
       "      <th>36648</th>\n",
       "      <td>36648</td>\n",
       "      <td>39496</td>\n",
       "      <td>枯蓮やたましひが哄笑してゐる</td>\n",
       "      <td>白石司子</td>\n",
       "      <td>枯蓮</td>\n",
       "      <td>冬</td>\n",
       "      <td>枯蓮ヤタマシヒガコウショウシテヰル</td>\n",
       "      <td>枯蓮</td>\n",
       "    </tr>\n",
       "    <tr>\n",
       "      <th>38170</th>\n",
       "      <td>38170</td>\n",
       "      <td>41040</td>\n",
       "      <td>枯蓮に抽き出しの音ありにけり</td>\n",
       "      <td>小野裕三</td>\n",
       "      <td>枯蓮</td>\n",
       "      <td>冬</td>\n",
       "      <td>枯蓮ニ抽キダシノオトアリニケリ</td>\n",
       "      <td>枯蓮</td>\n",
       "    </tr>\n",
       "  </tbody>\n",
       "</table>\n",
       "</div>"
      ],
      "text/plain": [
       "       Unnamed: 0  cd-num              haiku writer kigo season  \\\n",
       "1150         1150    1231     枯蓮の折れたる影は折れてをる   富安風生   枯蓮      冬   \n",
       "2035         2035    2159     枯蓮のうごく時きてみなうごく   西東三鬼   枯蓮      冬   \n",
       "2330         2330    2469      枯蓮に隈おとしたる道化たち    橋閒石   枯蓮      冬   \n",
       "6263         6263    7518       枯蓮や無用の者ら無用の首   井沢唯夫   枯蓮      冬   \n",
       "12015       12015   14283         裏返る力もうなし枯蓮   畠中定子   枯蓮      冬   \n",
       "12597       12597   14872       杖ついて水の枯蓮歳をとる  竹鼻瑠璃男   枯蓮      冬   \n",
       "16497       16497   18794         枯蓮己の影の怖からむ   藤岡尚子   枯蓮      冬   \n",
       "17427       17427   19738         筑波嶺を背に枯蓮枯蓮   菅原けい   枯蓮      冬   \n",
       "18625       18625   20942      枯蓮に柔らかき水ありにけり   原田宏子   枯蓮      冬   \n",
       "19440       19440   21764       一望の枯蓮に火の色を見き   江中真弓   枯蓮      冬   \n",
       "29020       29020   31464  枯蓮はCocteauの指無数に折れ   横山白虹   枯蓮      冬   \n",
       "35277       35277   38023       枯蓮にかぶさる競馬新聞紙   大石雄鬼   枯蓮      冬   \n",
       "35730       35730   38527       いつさいは天上にあり枯蓮   浦川聡子   枯蓮      冬   \n",
       "36648       36648   39496     枯蓮やたましひが哄笑してゐる   白石司子   枯蓮      冬   \n",
       "38170       38170   41040     枯蓮に抽き出しの音ありにけり   小野裕三   枯蓮      冬   \n",
       "\n",
       "                      yomi kigo_yomi  \n",
       "1150       枯蓮ノオレタルカゲハオレテヲル        枯蓮  \n",
       "2035       枯蓮ノウゴクトキキテミナウゴク        枯蓮  \n",
       "2330       枯蓮ニクマオトシタルドウケタチ        枯蓮  \n",
       "6263      枯蓮ヤムヨウノモノラムヨウノクビ        枯蓮  \n",
       "12015        ウラガエルリキモウナシ枯蓮        枯蓮  \n",
       "12597      ツエツイテミズノ枯蓮トシヲトル        枯蓮  \n",
       "16497       枯蓮オノレノカゲノコワカラム        枯蓮  \n",
       "17427         ツクバミネヲセニ枯蓮枯蓮        枯蓮  \n",
       "18625      枯蓮ニヤワラカキミズアリニケリ        枯蓮  \n",
       "19440      イチボウノ枯蓮ニヒノイロヲミキ        枯蓮  \n",
       "29020  枯蓮ハCocteauノユビムスウニオレ        枯蓮  \n",
       "35277      枯蓮ニカブサルケイバシンブンシ        枯蓮  \n",
       "35730      イツサイハテンジョウニアリ枯蓮        枯蓮  \n",
       "36648    枯蓮ヤタマシヒガコウショウシテヰル        枯蓮  \n",
       "38170      枯蓮ニ抽キダシノオトアリニケリ        枯蓮  "
      ]
     },
     "execution_count": 39,
     "metadata": {},
     "output_type": "execute_result"
    }
   ],
   "source": [
    "new[new[\"haiku\"].apply(lambda x: \"枯蓮\" in x)]"
   ]
  },
  {
   "cell_type": "code",
   "execution_count": 40,
   "metadata": {
    "collapsed": true,
    "deletable": true,
    "editable": true
   },
   "outputs": [],
   "source": [
    "def convert(text):\n",
    "    sentence = []\n",
    "    if text[-1]==\"哉\":\n",
    "        text=text[:-1]+\"かな\"\n",
    "    if \"枯葎\" in text:\n",
    "        text = re.sub(r\"枯葎\", \"カレムグラ\", text)\n",
    "    if \"夏瘦\" in text:\n",
    "        text = re.sub(r\"夏瘦\", \"ナツヤセ\", text)\n",
    "    if \"枯薄\" in text:\n",
    "        text = re.sub(r\"枯薄\", \"カレススキ\", text)\n",
    "    if \"蟬\" in text:\n",
    "        text = re.sub(r\"蟬\", \"セミ\", text)\n",
    "    if \"魂迎\" in text:\n",
    "        text = re.sub(r\"魂迎\", \"タマムカエ\", text)\n",
    "    if \"枯蓮\" in text:\n",
    "        text= re.sub(r\"枯蓮\", \"カレハス\", text)\n",
    "    node = tagger.parse(text)\n",
    "    node = node.split(\"\\n\")\n",
    "    for i in range(len(node)):\n",
    "        feature = node[i].split(\"\\t\")\n",
    "        if feature[0] == \"EOS\":\n",
    "            break\n",
    "        sentence.append(feature[1])\n",
    "        #print(feature)\n",
    "    return jaconv.hira2kata(\"\".join(sentence))"
   ]
  },
  {
   "cell_type": "code",
   "execution_count": 41,
   "metadata": {
    "collapsed": true,
    "deletable": true,
    "editable": true
   },
   "outputs": [],
   "source": [
    "new[\"yomi\"]=new[\"haiku\"].apply(convert)"
   ]
  },
  {
   "cell_type": "code",
   "execution_count": 42,
   "metadata": {
    "collapsed": true,
    "deletable": true,
    "editable": true
   },
   "outputs": [],
   "source": [
    "new[\"kigo_yomi\"]=new[\"kigo\"].apply(convert)"
   ]
  },
  {
   "cell_type": "code",
   "execution_count": 44,
   "metadata": {
    "collapsed": false,
    "deletable": true,
    "editable": true
   },
   "outputs": [
    {
     "data": {
      "text/plain": [
       "['あ', 'い', 'う', 'お', 'え']"
      ]
     },
     "execution_count": 44,
     "metadata": {},
     "output_type": "execute_result"
    }
   ],
   "source": [
    "list(\"あいうおえ\")"
   ]
  },
  {
   "cell_type": "code",
   "execution_count": 47,
   "metadata": {
    "collapsed": true,
    "deletable": true,
    "editable": true
   },
   "outputs": [],
   "source": [
    "x = list(map(lambda x: list(x) ,new[\"yomi\"].values))"
   ]
  },
  {
   "cell_type": "code",
   "execution_count": 51,
   "metadata": {
    "collapsed": true,
    "deletable": true,
    "editable": true
   },
   "outputs": [],
   "source": [
    "vocab=np.unique(np.concatenate(x, axis=0))"
   ]
  },
  {
   "cell_type": "code",
   "execution_count": 31,
   "metadata": {
    "collapsed": false,
    "deletable": true,
    "editable": true
   },
   "outputs": [
    {
     "data": {
      "text/plain": [
       "(38188, 8)"
      ]
     },
     "execution_count": 31,
     "metadata": {},
     "output_type": "execute_result"
    }
   ],
   "source": [
    "new.shape"
   ]
  },
  {
   "cell_type": "code",
   "execution_count": 4,
   "metadata": {
    "collapsed": true,
    "deletable": true,
    "editable": true
   },
   "outputs": [],
   "source": [
    "def is_kana(text):\n",
    "    if re.fullmatch(r'[ア-ン]*', text):\n",
    "        return True\n",
    "    else:\n",
    "        return False"
   ]
  },
  {
   "cell_type": "code",
   "execution_count": 61,
   "metadata": {
    "collapsed": true,
    "deletable": true,
    "editable": true
   },
   "outputs": [],
   "source": [
    "only_kana = new[new[\"yomi\"].apply(is_kana)]"
   ]
  },
  {
   "cell_type": "code",
   "execution_count": 64,
   "metadata": {
    "collapsed": false,
    "deletable": true,
    "editable": true
   },
   "outputs": [
    {
     "data": {
      "text/plain": [
       "(32475, 8)"
      ]
     },
     "execution_count": 64,
     "metadata": {},
     "output_type": "execute_result"
    }
   ],
   "source": [
    "only_kana.shape"
   ]
  },
  {
   "cell_type": "code",
   "execution_count": 65,
   "metadata": {
    "collapsed": true,
    "deletable": true,
    "editable": true
   },
   "outputs": [],
   "source": [
    "only_kana2 = only_kana[only_kana[\"kigo\"]!=\"無季\"]"
   ]
  },
  {
   "cell_type": "code",
   "execution_count": 69,
   "metadata": {
    "collapsed": true,
    "deletable": true,
    "editable": true
   },
   "outputs": [],
   "source": [
    "only_kana2[[\"yomi\", \"kigo_yomi\"]].to_csv(\"../save/only_kana2.csv\", index=False)"
   ]
  },
  {
   "cell_type": "code",
   "execution_count": 70,
   "metadata": {
    "collapsed": false,
    "deletable": true,
    "editable": true
   },
   "outputs": [
    {
     "data": {
      "text/plain": [
       "(31623, 8)"
      ]
     },
     "execution_count": 70,
     "metadata": {},
     "output_type": "execute_result"
    }
   ],
   "source": [
    "only_kana2.shape"
   ]
  },
  {
   "cell_type": "code",
   "execution_count": 71,
   "metadata": {
    "collapsed": false,
    "deletable": true,
    "editable": true
   },
   "outputs": [
    {
     "data": {
      "text/plain": [
       "3985"
      ]
     },
     "execution_count": 71,
     "metadata": {},
     "output_type": "execute_result"
    }
   ],
   "source": [
    "only_kana2[\"kigo_yomi\"].nunique()"
   ]
  },
  {
   "cell_type": "code",
   "execution_count": 72,
   "metadata": {
    "collapsed": false,
    "deletable": true,
    "editable": true
   },
   "outputs": [
    {
     "data": {
      "text/plain": [
       "array(['キリ', 'カレムグラ', 'ナノハナ', ..., 'ホッキガイ', 'ショシ', 'トシトクジン'], dtype=object)"
      ]
     },
     "execution_count": 72,
     "metadata": {},
     "output_type": "execute_result"
    }
   ],
   "source": [
    "only_kana2[\"kigo_yomi\"].unique()"
   ]
  },
  {
   "cell_type": "code",
   "execution_count": 2,
   "metadata": {
    "collapsed": true
   },
   "outputs": [],
   "source": [
    "df = pd.read_csv(\"../save/only_kana2.csv\")"
   ]
  },
  {
   "cell_type": "code",
   "execution_count": 5,
   "metadata": {
    "collapsed": false
   },
   "outputs": [
    {
     "data": {
      "text/plain": [
       "(31623, 2)"
      ]
     },
     "execution_count": 5,
     "metadata": {},
     "output_type": "execute_result"
    }
   ],
   "source": [
    "df.shape"
   ]
  },
  {
   "cell_type": "code",
   "execution_count": 10,
   "metadata": {
    "collapsed": false
   },
   "outputs": [],
   "source": [
    "df2 = df[df[\"kigo_yomi\"].apply(is_kana)]"
   ]
  },
  {
   "cell_type": "code",
   "execution_count": 15,
   "metadata": {
    "collapsed": true
   },
   "outputs": [],
   "source": [
    "df2.to_csv(\"../save/only_kana2.csv\", index=False)"
   ]
  }
 ],
 "metadata": {
  "kernelspec": {
   "display_name": "Python 3",
   "language": "python",
   "name": "python3"
  },
  "language_info": {
   "codemirror_mode": {
    "name": "ipython",
    "version": 3
   },
   "file_extension": ".py",
   "mimetype": "text/x-python",
   "name": "python",
   "nbconvert_exporter": "python",
   "pygments_lexer": "ipython3",
   "version": "3.4.3"
  }
 },
 "nbformat": 4,
 "nbformat_minor": 2
}
