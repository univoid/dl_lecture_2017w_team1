{
 "cells": [
  {
   "cell_type": "markdown",
   "metadata": {},
   "source": [
    "# データの統合とデータクレンジング"
   ]
  },
  {
   "cell_type": "markdown",
   "metadata": {},
   "source": [
    "## データの統合"
   ]
  },
  {
   "cell_type": "code",
   "execution_count": 1,
   "metadata": {
    "collapsed": true
   },
   "outputs": [],
   "source": [
    "# 標準モジュール読み込み\n",
    "import pandas as pd"
   ]
  },
  {
   "cell_type": "code",
   "execution_count": 2,
   "metadata": {
    "collapsed": true
   },
   "outputs": [],
   "source": [
    "df = pd.DataFrame(columns=[\"cd-num\", \"haiku\", \"writer\", \"kigo\", \"season\"])"
   ]
  },
  {
   "cell_type": "code",
   "execution_count": 3,
   "metadata": {},
   "outputs": [],
   "source": [
    "for j in range(500):\n",
    "    unit = j * 100\n",
    "    add_df = pd.read_csv(str(unit)+'.csv')\n",
    "    df = df.append(add_df)"
   ]
  },
  {
   "cell_type": "code",
   "execution_count": 4,
   "metadata": {},
   "outputs": [],
   "source": [
    "df.to_csv(\"marged_raw.csv\")"
   ]
  },
  {
   "cell_type": "markdown",
   "metadata": {},
   "source": [
    "## データクレンジング（null値の削除）"
   ]
  },
  {
   "cell_type": "code",
   "execution_count": 5,
   "metadata": {},
   "outputs": [
    {
     "data": {
      "text/plain": [
       "(50000, 5)"
      ]
     },
     "execution_count": 5,
     "metadata": {},
     "output_type": "execute_result"
    }
   ],
   "source": [
    "# サイズ\n",
    "df.shape"
   ]
  },
  {
   "cell_type": "code",
   "execution_count": 6,
   "metadata": {},
   "outputs": [
    {
     "data": {
      "text/plain": [
       "cd-num        0\n",
       "haiku     10839\n",
       "writer    10839\n",
       "kigo      11769\n",
       "season    10885\n",
       "dtype: int64"
      ]
     },
     "execution_count": 6,
     "metadata": {},
     "output_type": "execute_result"
    }
   ],
   "source": [
    "# nullの数\n",
    "df.isnull().sum()"
   ]
  },
  {
   "cell_type": "code",
   "execution_count": 7,
   "metadata": {
    "collapsed": true
   },
   "outputs": [],
   "source": [
    "# 今回は季語がないものが多く含まれるようだ。とりあえず、(haiku/writer/kigo/season)のいづれかがnullっているものを削除する。\n",
    "df_delete_null = df.dropna(subset=['haiku','writer','kigo','season'])"
   ]
  },
  {
   "cell_type": "code",
   "execution_count": 8,
   "metadata": {},
   "outputs": [
    {
     "data": {
      "text/plain": [
       "(38188, 5)"
      ]
     },
     "execution_count": 8,
     "metadata": {},
     "output_type": "execute_result"
    }
   ],
   "source": [
    "df_delete_null.shape"
   ]
  },
  {
   "cell_type": "code",
   "execution_count": 9,
   "metadata": {},
   "outputs": [
    {
     "data": {
      "text/html": [
       "<div>\n",
       "<style>\n",
       "    .dataframe thead tr:only-child th {\n",
       "        text-align: right;\n",
       "    }\n",
       "\n",
       "    .dataframe thead th {\n",
       "        text-align: left;\n",
       "    }\n",
       "\n",
       "    .dataframe tbody tr th {\n",
       "        vertical-align: top;\n",
       "    }\n",
       "</style>\n",
       "<table border=\"1\" class=\"dataframe\">\n",
       "  <thead>\n",
       "    <tr style=\"text-align: right;\">\n",
       "      <th></th>\n",
       "      <th>cd-num</th>\n",
       "      <th>haiku</th>\n",
       "      <th>writer</th>\n",
       "      <th>kigo</th>\n",
       "      <th>season</th>\n",
       "    </tr>\n",
       "  </thead>\n",
       "  <tbody>\n",
       "    <tr>\n",
       "      <th>1</th>\n",
       "      <td>1</td>\n",
       "      <td>朝霧の中に九段のともし哉</td>\n",
       "      <td>正岡子規</td>\n",
       "      <td>霧</td>\n",
       "      <td>秋</td>\n",
       "    </tr>\n",
       "    <tr>\n",
       "      <th>2</th>\n",
       "      <td>2</td>\n",
       "      <td>あたたかな雨が降るなり枯葎</td>\n",
       "      <td>正岡子規</td>\n",
       "      <td>枯葎</td>\n",
       "      <td>冬</td>\n",
       "    </tr>\n",
       "    <tr>\n",
       "      <th>3</th>\n",
       "      <td>3</td>\n",
       "      <td>菜の花やはつと明るき町はづれ</td>\n",
       "      <td>正岡子規</td>\n",
       "      <td>菜の花</td>\n",
       "      <td>春</td>\n",
       "    </tr>\n",
       "    <tr>\n",
       "      <th>4</th>\n",
       "      <td>4</td>\n",
       "      <td>秋風や伊予へ流るる汐の音</td>\n",
       "      <td>正岡子規</td>\n",
       "      <td>秋風</td>\n",
       "      <td>秋</td>\n",
       "    </tr>\n",
       "    <tr>\n",
       "      <th>5</th>\n",
       "      <td>5</td>\n",
       "      <td>長閑さや障子の穴に海見えて</td>\n",
       "      <td>正岡子規</td>\n",
       "      <td>長閑</td>\n",
       "      <td>春</td>\n",
       "    </tr>\n",
       "  </tbody>\n",
       "</table>\n",
       "</div>"
      ],
      "text/plain": [
       "  cd-num           haiku writer kigo season\n",
       "1      1    朝霧の中に九段のともし哉   正岡子規    霧      秋\n",
       "2      2   あたたかな雨が降るなり枯葎   正岡子規   枯葎      冬\n",
       "3      3  菜の花やはつと明るき町はづれ   正岡子規  菜の花      春\n",
       "4      4    秋風や伊予へ流るる汐の音   正岡子規   秋風      秋\n",
       "5      5   長閑さや障子の穴に海見えて   正岡子規   長閑      春"
      ]
     },
     "execution_count": 9,
     "metadata": {},
     "output_type": "execute_result"
    }
   ],
   "source": [
    "df_delete_null.head()"
   ]
  },
  {
   "cell_type": "code",
   "execution_count": 10,
   "metadata": {},
   "outputs": [
    {
     "data": {
      "text/plain": [
       "cd-num    0\n",
       "haiku     0\n",
       "writer    0\n",
       "kigo      0\n",
       "season    0\n",
       "dtype: int64"
      ]
     },
     "execution_count": 10,
     "metadata": {},
     "output_type": "execute_result"
    }
   ],
   "source": [
    "# 確認\n",
    "df_delete_null.isnull().sum()"
   ]
  },
  {
   "cell_type": "code",
   "execution_count": 11,
   "metadata": {
    "collapsed": true
   },
   "outputs": [],
   "source": [
    "df_delete_null.to_csv(\"df_delete_null.csv\")"
   ]
  },
  {
   "cell_type": "markdown",
   "metadata": {},
   "source": [
    "## データクレンジング（（）：ルビや/：句切れなど記号を削除）"
   ]
  },
  {
   "cell_type": "code",
   "execution_count": 12,
   "metadata": {},
   "outputs": [
    {
     "name": "stderr",
     "output_type": "stream",
     "text": [
      "/home/ec2-user/anaconda3/envs/python3/lib/python3.6/site-packages/ipykernel/__main__.py:2: UserWarning: This pattern has match groups. To actually get the groups, use str.extract.\n",
      "  from ipykernel import kernelapp as app\n"
     ]
    },
    {
     "data": {
      "text/html": [
       "<div>\n",
       "<style>\n",
       "    .dataframe thead tr:only-child th {\n",
       "        text-align: right;\n",
       "    }\n",
       "\n",
       "    .dataframe thead th {\n",
       "        text-align: left;\n",
       "    }\n",
       "\n",
       "    .dataframe tbody tr th {\n",
       "        vertical-align: top;\n",
       "    }\n",
       "</style>\n",
       "<table border=\"1\" class=\"dataframe\">\n",
       "  <thead>\n",
       "    <tr style=\"text-align: right;\">\n",
       "      <th></th>\n",
       "      <th>cd-num</th>\n",
       "      <th>haiku</th>\n",
       "      <th>writer</th>\n",
       "      <th>kigo</th>\n",
       "      <th>season</th>\n",
       "    </tr>\n",
       "  </thead>\n",
       "  <tbody>\n",
       "    <tr>\n",
       "      <th>24</th>\n",
       "      <td>24</td>\n",
       "      <td>漱石が来て虚子が来て大三十日（おほみそか）</td>\n",
       "      <td>正岡子規</td>\n",
       "      <td>大晦日</td>\n",
       "      <td>冬</td>\n",
       "    </tr>\n",
       "    <tr>\n",
       "      <th>43</th>\n",
       "      <td>43</td>\n",
       "      <td>つり鐘の蔕（へた）のところが渋かりき</td>\n",
       "      <td>正岡子規</td>\n",
       "      <td>柿</td>\n",
       "      <td>秋</td>\n",
       "    </tr>\n",
       "    <tr>\n",
       "      <th>44</th>\n",
       "      <td>44</td>\n",
       "      <td>三千の俳句を閲（けみ）し柿二つ</td>\n",
       "      <td>正岡子規</td>\n",
       "      <td>柿</td>\n",
       "      <td>秋</td>\n",
       "    </tr>\n",
       "    <tr>\n",
       "      <th>46</th>\n",
       "      <td>46</td>\n",
       "      <td>この頃の蕣（あさがほ）藍に定まりぬ</td>\n",
       "      <td>正岡子規</td>\n",
       "      <td>朝顔</td>\n",
       "      <td>秋（夏）</td>\n",
       "    </tr>\n",
       "    <tr>\n",
       "      <th>56</th>\n",
       "      <td>56</td>\n",
       "      <td>薔薇の香の紛々（ふんぷん）として眠られず</td>\n",
       "      <td>正岡子規</td>\n",
       "      <td>薔薇</td>\n",
       "      <td>夏</td>\n",
       "    </tr>\n",
       "  </tbody>\n",
       "</table>\n",
       "</div>"
      ],
      "text/plain": [
       "   cd-num                  haiku writer kigo season\n",
       "24     24  漱石が来て虚子が来て大三十日（おほみそか）   正岡子規  大晦日      冬\n",
       "43     43     つり鐘の蔕（へた）のところが渋かりき   正岡子規    柿      秋\n",
       "44     44        三千の俳句を閲（けみ）し柿二つ   正岡子規    柿      秋\n",
       "46     46      この頃の蕣（あさがほ）藍に定まりぬ   正岡子規   朝顔   秋（夏）\n",
       "56     56   薔薇の香の紛々（ふんぷん）として眠られず   正岡子規   薔薇      夏"
      ]
     },
     "execution_count": 12,
     "metadata": {},
     "output_type": "execute_result"
    }
   ],
   "source": [
    "# （）()... 全角半角の括弧の組み合わせで正規表現でチェック\n",
    "df_delete_null[df_delete_null[\"haiku\"].str.contains(\"(\\(|（).+?(\\)|）)\")].head()"
   ]
  },
  {
   "cell_type": "code",
   "execution_count": 13,
   "metadata": {},
   "outputs": [],
   "source": [
    "df_cleaning = df_delete_null.replace(\"(\\(|（).+?(\\)|）)\",\"\", regex=True)"
   ]
  },
  {
   "cell_type": "code",
   "execution_count": 14,
   "metadata": {},
   "outputs": [
    {
     "data": {
      "text/plain": [
       "(38188, 5)"
      ]
     },
     "execution_count": 14,
     "metadata": {},
     "output_type": "execute_result"
    }
   ],
   "source": [
    "df_cleaning.shape"
   ]
  },
  {
   "cell_type": "code",
   "execution_count": 15,
   "metadata": {},
   "outputs": [
    {
     "data": {
      "text/html": [
       "<div>\n",
       "<style>\n",
       "    .dataframe thead tr:only-child th {\n",
       "        text-align: right;\n",
       "    }\n",
       "\n",
       "    .dataframe thead th {\n",
       "        text-align: left;\n",
       "    }\n",
       "\n",
       "    .dataframe tbody tr th {\n",
       "        vertical-align: top;\n",
       "    }\n",
       "</style>\n",
       "<table border=\"1\" class=\"dataframe\">\n",
       "  <thead>\n",
       "    <tr style=\"text-align: right;\">\n",
       "      <th></th>\n",
       "      <th>cd-num</th>\n",
       "      <th>haiku</th>\n",
       "      <th>writer</th>\n",
       "      <th>kigo</th>\n",
       "      <th>season</th>\n",
       "    </tr>\n",
       "  </thead>\n",
       "  <tbody>\n",
       "    <tr>\n",
       "      <th>50</th>\n",
       "      <td>3150</td>\n",
       "      <td>身をそらす虹の/絶巓/処刑台</td>\n",
       "      <td>高柳重信</td>\n",
       "      <td>虹</td>\n",
       "      <td>夏</td>\n",
       "    </tr>\n",
       "    <tr>\n",
       "      <th>51</th>\n",
       "      <td>3151</td>\n",
       "      <td>「月光」旅館/開けても開けてもドアがある</td>\n",
       "      <td>高柳重信</td>\n",
       "      <td>月光</td>\n",
       "      <td>秋</td>\n",
       "    </tr>\n",
       "    <tr>\n",
       "      <th>52</th>\n",
       "      <td>3152</td>\n",
       "      <td>月下の宿帳/先客の名はリラダン伯爵</td>\n",
       "      <td>高柳重信</td>\n",
       "      <td>月光</td>\n",
       "      <td>秋</td>\n",
       "    </tr>\n",
       "    <tr>\n",
       "      <th>56</th>\n",
       "      <td>3156</td>\n",
       "      <td>軍鼓鳴り/荒涼と/秋の/痣となる</td>\n",
       "      <td>高柳重信</td>\n",
       "      <td>秋</td>\n",
       "      <td>秋</td>\n",
       "    </tr>\n",
       "    <tr>\n",
       "      <th>64</th>\n",
       "      <td>3164</td>\n",
       "      <td>後朝や/いづこも/伊豆の/神無月</td>\n",
       "      <td>高柳重信</td>\n",
       "      <td>神無月</td>\n",
       "      <td>冬</td>\n",
       "    </tr>\n",
       "  </tbody>\n",
       "</table>\n",
       "</div>"
      ],
      "text/plain": [
       "    cd-num                 haiku writer kigo season\n",
       "50    3150        身をそらす虹の/絶巓/処刑台   高柳重信    虹      夏\n",
       "51    3151  「月光」旅館/開けても開けてもドアがある   高柳重信   月光      秋\n",
       "52    3152     月下の宿帳/先客の名はリラダン伯爵   高柳重信   月光      秋\n",
       "56    3156      軍鼓鳴り/荒涼と/秋の/痣となる   高柳重信    秋      秋\n",
       "64    3164      後朝や/いづこも/伊豆の/神無月   高柳重信  神無月      冬"
      ]
     },
     "execution_count": 15,
     "metadata": {},
     "output_type": "execute_result"
    }
   ],
   "source": [
    "# /などの句切れをチェック\n",
    "df_cleaning[df_cleaning[\"haiku\"].str.contains(\"／|\\/|\\\\|＼\")].head()"
   ]
  },
  {
   "cell_type": "code",
   "execution_count": 16,
   "metadata": {
    "collapsed": true
   },
   "outputs": [],
   "source": [
    "df_cleaning2 = df_cleaning.replace(\"／|\\/|\\\\|＼\",\"\", regex=True)"
   ]
  },
  {
   "cell_type": "code",
   "execution_count": 17,
   "metadata": {},
   "outputs": [],
   "source": [
    "# 最後にインデックス番号を付け直し\n",
    "df_cleaning3 = df_cleaning2.reset_index(drop = True)"
   ]
  },
  {
   "cell_type": "code",
   "execution_count": 18,
   "metadata": {
    "collapsed": true
   },
   "outputs": [],
   "source": [
    "df_cleaning3.to_csv(\"df_cleaning3.csv\")"
   ]
  }
 ],
 "metadata": {
  "kernelspec": {
   "display_name": "conda_python3",
   "language": "python",
   "name": "conda_python3"
  },
  "language_info": {
   "codemirror_mode": {
    "name": "ipython",
    "version": 3
   },
   "file_extension": ".py",
   "mimetype": "text/x-python",
   "name": "python",
   "nbconvert_exporter": "python",
   "pygments_lexer": "ipython3",
   "version": "3.6.2"
  }
 },
 "nbformat": 4,
 "nbformat_minor": 2
}
