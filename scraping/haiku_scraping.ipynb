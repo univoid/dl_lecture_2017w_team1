{
 "cells": [
  {
   "cell_type": "code",
   "execution_count": 11,
   "metadata": {
    "collapsed": true
   },
   "outputs": [],
   "source": [
    "import numpy as np\n",
    "import pandas as pd\n",
    "\n",
    "import time\n",
    "import urllib.request\n",
    "\n",
    "from bs4 import BeautifulSoup"
   ]
  },
  {
   "cell_type": "code",
   "execution_count": 12,
   "metadata": {
    "collapsed": true
   },
   "outputs": [],
   "source": [
    "def scraping(url,i):\n",
    "\n",
    "    html = urllib.request.urlopen(url)\n",
    "    soup = BeautifulSoup(html, 'lxml')\n",
    "    \n",
    "    # 俳句を取得する\n",
    "    haikus = soup.find_all(\"b\") \n",
    "    haiku = haikus[1].text.rstrip(\"&nbsp\")\n",
    "\n",
    "    # その他の情報を取得する\n",
    "    divs = soup.find_all(\"div\", class_=\"font2\") \n",
    "    \n",
    "    writer = divs[0].text.rstrip(\"&nbsp\")\n",
    "    kigo = divs[1].text.rstrip(\"&nbsp\")\n",
    "    season = divs[2].text.rstrip(\"&nbsp\")\n",
    "\n",
    "    df_add = pd.DataFrame([[i,haiku,writer,kigo,season]],columns=[\"cd-num\", \"haiku\", \"writer\", \"kigo\", \"season\"])\n",
    "                          \n",
    "    return df_add"
   ]
  },
  {
   "cell_type": "code",
   "execution_count": null,
   "metadata": {},
   "outputs": [
    {
     "name": "stdout",
     "output_type": "stream",
     "text": [
      "0.csvの保存が完了しました\n"
     ]
    }
   ],
   "source": [
    "for j in range(500):\n",
    "    unit = j * 100\n",
    "    \n",
    "    # データフレームの初期化\n",
    "    df = pd.DataFrame(columns=[\"cd-num\", \"haiku\", \"writer\", \"kigo\", \"season\"])\n",
    "    \n",
    "    # 100個スクレイピング\n",
    "    for i in range(100):\n",
    "        cdnum = i + unit\n",
    "        url = \"http://www.haiku-data.jp/work_detail.php?cd=\"+str(cdnum)\n",
    "        df_add = scraping(url,cdnum)\n",
    "        df = df.append(df_add)\n",
    "        time.sleep(2)\n",
    "    \n",
    "    # データの保存\n",
    "    csvname = str(unit)+\".csv\"\n",
    "    df.to_csv(csvname, index=False)\n",
    "    \n",
    "    print(str(csvname)+\"の保存が完了しました\")"
   ]
  }
 ],
 "metadata": {
  "kernelspec": {
   "display_name": "conda_python3",
   "language": "python",
   "name": "conda_python3"
  },
  "language_info": {
   "codemirror_mode": {
    "name": "ipython",
    "version": 3
   },
   "file_extension": ".py",
   "mimetype": "text/x-python",
   "name": "python",
   "nbconvert_exporter": "python",
   "pygments_lexer": "ipython3",
   "version": "3.6.2"
  }
 },
 "nbformat": 4,
 "nbformat_minor": 2
}
