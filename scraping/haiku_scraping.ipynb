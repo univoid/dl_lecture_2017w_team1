{
 "cells": [
  {
   "cell_type": "code",
   "execution_count": 1,
   "metadata": {
    "collapsed": true
   },
   "outputs": [],
   "source": [
    "import pandas as pd\n",
    "\n",
    "import csv\n",
    "import time\n",
    "import urllib.request\n",
    "\n",
    "from datetime import datetime\n",
    "from selenium import webdriver\n",
    "from bs4 import BeautifulSoup"
   ]
  },
  {
   "cell_type": "code",
   "execution_count": 2,
   "metadata": {
    "collapsed": true
   },
   "outputs": [],
   "source": [
    "# 検索して採捕のページのURLを入れます。\n",
    "haiku_url = \"http://www.haiku-data.jp/search.php?next_i=0&search_type=and&kigo=%E6%98%A5&database=%E7%8F%BE%E4%BB%A3%E4%BF%B3%E5%8F%A5%E5%8D%94%E4%BC%9A%E3%80%8C%E7%8F%BE%E4%BB%A3%E4%BF%B3%E5%8F%A5%E3%83%87%E3%83%BC%E3%82%BF%E3%83%99%E3%83%BC%E3%82%B9%E3%80%8D&order=work_up#result\""
   ]
  },
  {
   "cell_type": "code",
   "execution_count": 3,
   "metadata": {},
   "outputs": [],
   "source": [
    "# データフレームの定義\n",
    "df = pd.Series()"
   ]
  },
  {
   "cell_type": "code",
   "execution_count": 4,
   "metadata": {},
   "outputs": [],
   "source": [
    "def writedf():\n",
    "    html = urllib.request.urlopen(haiku_url)\n",
    "    soup = BeautifulSoup(html, 'lxml')\n",
    "    \n",
    "    # aタグの要素を全て取得する\n",
    "    haikus = soup.find_all(\"a\") \n",
    "\n",
    "    for haiku in haikus:\n",
    "        global df\n",
    "        \n",
    "        # タグの中身を取得\n",
    "        haiku = haiku.text\n",
    "        \n",
    "        # タグの中身が空以外のものを代入\n",
    "        if haiku != \"\":\n",
    "            new = pd.Series(haiku)\n",
    "            df = df.append(new, ignore_index=True)"
   ]
  },
  {
   "cell_type": "code",
   "execution_count": 5,
   "metadata": {},
   "outputs": [],
   "source": [
    "def movepage():\n",
    "    global haiku_url\n",
    "    \n",
    "    # PhantomJSのドライバを得る\n",
    "    browser = webdriver.PhantomJS()\n",
    "    \n",
    "    # 暗黙的な待機を最大3秒。ドライバの初期化待ち\n",
    "    browser.implicitly_wait(3)\n",
    "    \n",
    "    # URLの読み込み\n",
    "    browser.get(haiku_url)\n",
    "    \n",
    "    # 遷移\n",
    "    browser.find_element_by_partial_link_text('次へ').click()\n",
    "\n",
    "    # URL取得\n",
    "    haiku_url = browser.current_url"
   ]
  },
  {
   "cell_type": "code",
   "execution_count": 6,
   "metadata": {
    "collapsed": true
   },
   "outputs": [],
   "source": [
    "for i in range(10):\n",
    "    # writecsv()で次へが見つからなかったらbreak\n",
    "    try:\n",
    "        writedf()\n",
    "        movepage()\n",
    "    except:\n",
    "        break"
   ]
  },
  {
   "cell_type": "code",
   "execution_count": 7,
   "metadata": {},
   "outputs": [],
   "source": [
    "garbage_words = [\"次へ \",\" 前へ\",\"▲検索条件の変更\",\"サイトマップ\",\"お問い合わせ\"]\n",
    "\n",
    "for garbage_word in garbage_words:\n",
    "    global df\n",
    "    df = df[df != garbage_word]\n",
    "\n",
    "data=str(datetime.now())\n",
    "csvname = data+\".csv\"\n",
    "df.to_csv(csvname, index=False)"
   ]
  }
 ],
 "metadata": {
  "kernelspec": {
   "display_name": "Python 3",
   "language": "python",
   "name": "python3"
  },
  "language_info": {
   "codemirror_mode": {
    "name": "ipython",
    "version": 3
   },
   "file_extension": ".py",
   "mimetype": "text/x-python",
   "name": "python",
   "nbconvert_exporter": "python",
   "pygments_lexer": "ipython3",
   "version": "3.6.1"
  }
 },
 "nbformat": 4,
 "nbformat_minor": 2
}
