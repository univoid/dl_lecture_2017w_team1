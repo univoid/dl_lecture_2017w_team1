{
 "cells": [
  {
   "cell_type": "code",
   "execution_count": 8,
   "metadata": {},
   "outputs": [],
   "source": [
    "import pandas as pd\n",
    "import re"
   ]
  },
  {
   "cell_type": "markdown",
   "metadata": {},
   "source": [
    "### 評価指標\n",
    "* 任意の季語が入っている割合\n",
    "* 指定した季語が入っている割合\n",
    "\n",
    "* 575である割合"
   ]
  },
  {
   "cell_type": "code",
   "execution_count": 3,
   "metadata": {},
   "outputs": [],
   "source": [
    "kigo=[]\n",
    "with open(\"last_kigo.txt\") as f:\n",
    "    for line in f:\n",
    "        line = line.strip()\n",
    "        if not line in kigo:\n",
    "            kigo.append(line)"
   ]
  },
  {
   "cell_type": "code",
   "execution_count": 4,
   "metadata": {},
   "outputs": [
    {
     "data": {
      "text/plain": [
       "3902"
      ]
     },
     "execution_count": 4,
     "metadata": {},
     "output_type": "execute_result"
    }
   ],
   "source": [
    "len(kigo)"
   ]
  },
  {
   "cell_type": "code",
   "execution_count": null,
   "metadata": {},
   "outputs": [],
   "source": [
    "kigo"
   ]
  },
  {
   "cell_type": "code",
   "execution_count": 9,
   "metadata": {},
   "outputs": [
    {
     "name": "stdout",
     "output_type": "stream",
     "text": [
      "霧\n"
     ]
    }
   ],
   "source": [
    "print kigo[0]"
   ]
  },
  {
   "cell_type": "code",
   "execution_count": 13,
   "metadata": {},
   "outputs": [],
   "source": [
    "out1 = \"kanji_generated_haiku_199.txt\"\n",
    "out2 = \"kanji_generated_haiku_with_kigo_199.txt\"\n",
    "out3 = \"conddis_kanji_generated_haiku_with_kigo_199.txt\""
   ]
  },
  {
   "cell_type": "code",
   "execution_count": 14,
   "metadata": {},
   "outputs": [],
   "source": [
    "out = [out1, out2, out3]"
   ]
  },
  {
   "cell_type": "code",
   "execution_count": 22,
   "metadata": {},
   "outputs": [
    {
     "name": "stdout",
     "output_type": "stream",
     "text": [
      "kanji_generated_haiku_199.txt 7267 10000 0.7267\n",
      "kanji_generated_haiku_with_kigo_199.txt 5639 10000 0.5639\n",
      "conddis_kanji_generated_haiku_with_kigo_199.txt 6671 10000 0.6671\n"
     ]
    }
   ],
   "source": [
    "# 任意の季語\n",
    "for o in out:\n",
    "    total=0\n",
    "    score=0\n",
    "    with open(o, 'r') as f:\n",
    "        for line in f:\n",
    "            line = line.strip().split(',')[-1]\n",
    "            line = re.sub(r' ', '', line)\n",
    "            total += 1\n",
    "            for k in kigo:\n",
    "                if k in line:\n",
    "                    score += 1\n",
    "                    break\n",
    "        print o, score, total, float(score)/total"
   ]
  },
  {
   "cell_type": "code",
   "execution_count": 23,
   "metadata": {},
   "outputs": [
    {
     "name": "stdout",
     "output_type": "stream",
     "text": [
      "kanji_generated_haiku_with_kigo_199.txt 73 9883 0.00738642112719\n",
      "conddis_kanji_generated_haiku_with_kigo_199.txt 2519 10000 0.2519\n"
     ]
    }
   ],
   "source": [
    "# 指定した季語\n",
    "for o in [out2, out3]:\n",
    "    total=0\n",
    "    score=0\n",
    "    with open(o, 'r') as f:\n",
    "        for line in f:\n",
    "            if line.count(',') > 1:\n",
    "                continue\n",
    "            line = re.sub(r' ', '', line)\n",
    "            line= re.sub(r'<UNK>', '', line)\n",
    "            k, line = line.strip().split(',')\n",
    "            total+=1\n",
    "            if k in line:\n",
    "                score+=1\n",
    "        print o, score, total, float(score)/total"
   ]
  },
  {
   "cell_type": "code",
   "execution_count": 24,
   "metadata": {},
   "outputs": [
    {
     "ename": "ImportError",
     "evalue": "No module named MeCab",
     "output_type": "error",
     "traceback": [
      "\u001b[0;31m---------------------------------------------------------------------------\u001b[0m",
      "\u001b[0;31mImportError\u001b[0m                               Traceback (most recent call last)",
      "\u001b[0;32m<ipython-input-24-7f1232ef1b6b>\u001b[0m in \u001b[0;36m<module>\u001b[0;34m()\u001b[0m\n\u001b[0;32m----> 1\u001b[0;31m \u001b[0;32mimport\u001b[0m \u001b[0mMeCab\u001b[0m\u001b[0;34m\u001b[0m\u001b[0m\n\u001b[0m\u001b[1;32m      2\u001b[0m \u001b[0mtagger\u001b[0m\u001b[0;34m=\u001b[0m\u001b[0mMeCab\u001b[0m\u001b[0;34m.\u001b[0m\u001b[0mTagger\u001b[0m\u001b[0;34m(\u001b[0m\u001b[0;34m\"-Ochasen\"\u001b[0m\u001b[0;34m)\u001b[0m\u001b[0;34m\u001b[0m\u001b[0m\n",
      "\u001b[0;31mImportError\u001b[0m: No module named MeCab"
     ]
    }
   ],
   "source": [
    "import MeCab\n",
    "tagger=MeCab.Tagger(\"-Ochasen\")"
   ]
  }
 ],
 "metadata": {
  "kernelspec": {
   "display_name": "Python 2",
   "language": "python",
   "name": "python2"
  },
  "language_info": {
   "codemirror_mode": {
    "name": "ipython",
    "version": 2
   },
   "file_extension": ".py",
   "mimetype": "text/x-python",
   "name": "python",
   "nbconvert_exporter": "python",
   "pygments_lexer": "ipython2",
   "version": "2.7.9"
  }
 },
 "nbformat": 4,
 "nbformat_minor": 2
}
