{
 "cells": [
  {
   "cell_type": "code",
   "execution_count": 1,
   "metadata": {},
   "outputs": [],
   "source": [
    "import numpy as np\n",
    "import pandas as pd\n",
    "from gensim.models import word2vec"
   ]
  },
  {
   "cell_type": "markdown",
   "metadata": {},
   "source": [
    "日本語学習済みのword2vecモデルを使う：\n",
    "- http://aial.shiroyagi.co.jp/2017/02/japanese-word2vec-model-builder/\n",
    "- https://github.com/shiroyagicorp/japanese-word2vec-model-builder"
   ]
  },
  {
   "cell_type": "markdown",
   "metadata": {},
   "source": [
    "きごさい歳時記から季語をとってきて、この内で学習済みモデルに含まれている季語をベクトル化する\n",
    "- http://kigosai.sub.jp/27701-2\n",
    "- `kigo.csv`にはベクトルと季語が入っている\n",
    "- `n`はその季語が登場する俳句の数"
   ]
  },
  {
   "cell_type": "markdown",
   "metadata": {},
   "source": [
    "- キーワードのリストを受け取って最もマッチする季語を返す関数\n",
    "    - `words`がキーワードのリスト\n",
    "    - `top_n`は季語の出現頻度上位何位までを利用するか\n",
    "    - `top_n`を大きくしたほうが写真により近い季語が選出されるが、その季語を用いた訓練データの俳句の数が少ないものが選出され、生成される俳句の質が悪くなる可能性がある"
   ]
  },
  {
   "cell_type": "code",
   "execution_count": 41,
   "metadata": {},
   "outputs": [],
   "source": [
    "def to_kigo(words, top_n=50):\n",
    "    model = word2vec.Word2Vec.load('word2vec.gensim.model')\n",
    "    df = pd.read_csv('kigo.csv')\n",
    "    df = df.iloc[:top_n, :]\n",
    "    V = df.drop(['kigo', 'n'], axis=1).values # 季語のベクトルを取り出す\n",
    "    kigo = df.kigo.values # 季語のラベルを取り出す\n",
    "    \n",
    "    idx = 0\n",
    "    max_similarity = 0\n",
    "    for word in words:\n",
    "        similarities = model.wv.similarity(kigo, word)\n",
    "        if similarities.max() >= max_similarity:\n",
    "            idx = similarities.argmax()\n",
    "    \n",
    "    return(kigo[idx])"
   ]
  },
  {
   "cell_type": "markdown",
   "metadata": {},
   "source": [
    "例として以下を用いる"
   ]
  },
  {
   "cell_type": "code",
   "execution_count": 23,
   "metadata": {},
   "outputs": [],
   "source": [
    "w1 = ['水', '森']\n",
    "#w2 = ['空', '時計']\n",
    "#w3 = ['水面', 'ビーチ']"
   ]
  },
  {
   "cell_type": "code",
   "execution_count": 42,
   "metadata": {},
   "outputs": [
    {
     "data": {
      "text/plain": [
       "'蛍'"
      ]
     },
     "execution_count": 42,
     "metadata": {},
     "output_type": "execute_result"
    }
   ],
   "source": [
    "to_kigo(w1, top_n=100)"
   ]
  }
 ],
 "metadata": {
  "kernelspec": {
   "display_name": "Python [Root]",
   "language": "python",
   "name": "Python [Root]"
  },
  "language_info": {
   "codemirror_mode": {
    "name": "ipython",
    "version": 3
   },
   "file_extension": ".py",
   "mimetype": "text/x-python",
   "name": "python",
   "nbconvert_exporter": "python",
   "pygments_lexer": "ipython3",
   "version": "3.5.2"
  }
 },
 "nbformat": 4,
 "nbformat_minor": 2
}
